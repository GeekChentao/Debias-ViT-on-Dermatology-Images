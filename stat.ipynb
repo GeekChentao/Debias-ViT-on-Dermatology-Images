{
 "cells": [
  {
   "cell_type": "code",
   "execution_count": 1,
   "id": "7a20dc35",
   "metadata": {},
   "outputs": [],
   "source": [
    "import pandas as pd\n",
    "import numpy as np\n",
    "\n",
    "train_df = pd.read_csv(\"train_data.csv\")\n",
    "test_df = pd.read_csv(\"test_data.csv\")\n",
    "validation_df = pd.read_csv(\"validation_data.csv\")\n",
    "\n",
    "df = pd.concat([train_df, validation_df, test_df], ignore_index=True)"
   ]
  },
  {
   "cell_type": "code",
   "execution_count": 2,
   "id": "5be57252",
   "metadata": {},
   "outputs": [
    {
     "name": "stdout",
     "output_type": "stream",
     "text": [
      "{'malignant': array([450, 741, 455, 301, 147,  61]), 'benign': array([442, 671, 475, 365, 159,  44])}\n"
     ]
    }
   ],
   "source": [
    "lesion_count = {\"malignant\": np.zeros(6, dtype=int), \"benign\": np.zeros(6, dtype=int)}\n",
    "\n",
    "for idx, row in df.iterrows():\n",
    "    skin_tone = int(row[\"skin_color\"])\n",
    "    lesion = int(row[\"lesion\"])\n",
    "    if lesion == 0:\n",
    "        lesion_count[\"benign\"][skin_tone - 1] += 1\n",
    "    else:\n",
    "        lesion_count[\"malignant\"][skin_tone - 1] += 1\n",
    "\n",
    "print(lesion_count)"
   ]
  },
  {
   "cell_type": "code",
   "execution_count": 3,
   "id": "5254e1e1",
   "metadata": {},
   "outputs": [
    {
     "name": "stdout",
     "output_type": "stream",
     "text": [
      "4311\n",
      "2155\n",
      "2156\n"
     ]
    }
   ],
   "source": [
    "print(np.sum(lesion_count[\"malignant\"]) + np.sum(lesion_count[\"benign\"]))\n",
    "print(np.sum(lesion_count[\"malignant\"]))\n",
    "print(np.sum(lesion_count[\"benign\"]))"
   ]
  },
  {
   "cell_type": "code",
   "execution_count": null,
   "id": "7d2124e7",
   "metadata": {},
   "outputs": [
    {
     "name": "stdout",
     "output_type": "stream",
     "text": [
      "208\n",
      "203\n"
     ]
    }
   ],
   "source": [
    "print(np.sum(lesion_count[\"malignant\"][4]) + np.sum(lesion_count[\"malignant\"][5]))\n",
    "print(np.sum(lesion_count[\"benign\"][4]) + np.sum(lesion_count[\"benign\"][5]))\n",
    "\n",
    "malignant 208 1,947\n",
    "benign 203\n"
   ]
  }
 ],
 "metadata": {
  "kernelspec": {
   "display_name": "Python 3",
   "language": "python",
   "name": "python3"
  },
  "language_info": {
   "codemirror_mode": {
    "name": "ipython",
    "version": 3
   },
   "file_extension": ".py",
   "mimetype": "text/x-python",
   "name": "python",
   "nbconvert_exporter": "python",
   "pygments_lexer": "ipython3",
   "version": "3.12.2"
  }
 },
 "nbformat": 4,
 "nbformat_minor": 5
}
